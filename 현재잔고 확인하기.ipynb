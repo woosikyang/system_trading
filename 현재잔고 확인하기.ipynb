{
 "cells": [
  {
   "cell_type": "code",
   "execution_count": 1,
   "metadata": {},
   "outputs": [],
   "source": [
    "import win32com.client\n",
    "obj_cp_cybos = win32com.client.Dispatch(\"CpUtil.CpCybos\")\n",
    "cpCash = win32com.client.Dispatch('CpTrade.CpTdNew5331A')\n",
    "CpTdUtil = win32com.client.Dispatch('CpTrade.CpTdUtil')\n"
   ]
  },
  {
   "cell_type": "code",
   "execution_count": 2,
   "metadata": {},
   "outputs": [],
   "source": [
    "b_connect = obj_cp_cybos.IsConnect\n",
    "if b_connect == 0:\n",
    "    print(209, \"PLUS가 정상적으로 연결되지 않음. \")"
   ]
  },
  {
   "cell_type": "code",
   "execution_count": 3,
   "metadata": {},
   "outputs": [
    {
     "name": "stdout",
     "output_type": "stream",
     "text": [
      "Initialization Success\n"
     ]
    }
   ],
   "source": [
    "#### 초기화\n",
    "instCheck = CpTdUtil.TradeInit(0)\n",
    "if (instCheck != 0):\n",
    "    print(\"Initialization Fail\")\n",
    "else:\n",
    "    print(\"Initialization Success\")"
   ]
  },
  {
   "cell_type": "code",
   "execution_count": 4,
   "metadata": {},
   "outputs": [
    {
     "name": "stdout",
     "output_type": "stream",
     "text": [
      "계좌번호 : 782349499\n",
      "예수금(증거금 100%) : 934480\n"
     ]
    }
   ],
   "source": [
    "### 계좌정보 확인\n",
    "account = CpTdUtil.AccountNumber[0]\n",
    "accFlag = CpTdUtil.GoodsList(account,1)\n",
    "cpCash.SetInputValue(0,account)\n",
    "cpCash.SetInputValue(1, accFlag[0])\n",
    "cpCash.BlockRequest()\n",
    "print('계좌번호 : {}'.format(account))\n",
    "print('예수금(증거금 100%) : {}'.format(cpCash.GetHeaderValue(9)))"
   ]
  },
  {
   "cell_type": "code",
   "execution_count": null,
   "metadata": {},
   "outputs": [],
   "source": []
  }
 ],
 "metadata": {
  "kernelspec": {
   "display_name": "Python 3",
   "language": "python",
   "name": "python3"
  },
  "language_info": {
   "codemirror_mode": {
    "name": "ipython",
    "version": 3
   },
   "file_extension": ".py",
   "mimetype": "text/x-python",
   "name": "python",
   "nbconvert_exporter": "python",
   "pygments_lexer": "ipython3",
   "version": "3.5.6"
  }
 },
 "nbformat": 4,
 "nbformat_minor": 4
}
